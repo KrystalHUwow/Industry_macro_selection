{
 "cells": [
  {
   "cell_type": "code",
   "execution_count": 2,
   "metadata": {},
   "outputs": [],
   "source": [
    "from olsjan10 import *\n",
    "import numpy as np\n",
    "import pandas as pd\n",
    "import matplotlib.pyplot as plt"
   ]
  },
  {
   "cell_type": "code",
   "execution_count": 12,
   "metadata": {},
   "outputs": [],
   "source": [
    "X = get_fundamental_data('EPS_TTM')\n",
    "rowindex = X.index\n",
    "colindex = X.columns\n",
    "X.dropna(axis=0,inplace=True)"
   ]
  },
  {
   "cell_type": "code",
   "execution_count": 18,
   "metadata": {},
   "outputs": [],
   "source": [
    "# 计算协方差矩阵\n",
    "eigen_vals, eigen_vectors = np.linalg.eig(np.cov(X,rowvar=False))"
   ]
  },
  {
   "cell_type": "code",
   "execution_count": 23,
   "metadata": {},
   "outputs": [
    {
     "data": {
      "text/plain": [
       "array([0.42904724, 0.58949993, 0.75919926, 0.84981602, 0.91199379,\n",
       "       0.9482026 , 0.97142685, 0.98096498, 0.98843618, 0.99376678,\n",
       "       0.99616512, 0.99733796, 0.99800106, 0.99862374, 0.99908947,\n",
       "       0.99941641, 0.99961916, 0.99976565, 0.99987157, 0.99991041,\n",
       "       0.99993854, 0.99995601, 0.99996906, 0.99997992, 0.99998577,\n",
       "       0.99999046, 0.99999475, 0.99999501, 0.99999731, 0.99999879,\n",
       "       1.        ])"
      ]
     },
     "execution_count": 23,
     "metadata": {},
     "output_type": "execute_result"
    }
   ],
   "source": [
    "# 提取4,5个隐含宏观因子\n",
    "eigen_vals.cumsum() / eigen_vals.sum()"
   ]
  },
  {
   "cell_type": "code",
   "execution_count": 27,
   "metadata": {},
   "outputs": [],
   "source": [
    "Factors = X @ eigen_vectors"
   ]
  },
  {
   "attachments": {},
   "cell_type": "markdown",
   "metadata": {},
   "source": [
    "## 市场隐含宏观因子"
   ]
  },
  {
   "attachments": {},
   "cell_type": "markdown",
   "metadata": {},
   "source": [
    "这种做法的频率更高，能够进行实时反馈，而且对资产的解释力度通常更高。(和之前对比的话，4个隐含因子和70个宏观经济变量因子的解释力度相差无几)"
   ]
  },
  {
   "attachments": {},
   "cell_type": "markdown",
   "metadata": {},
   "source": [
    "根据主成分的权重, 可以对因子进行命名(多为增长，通胀，利率)，但存在的问题是，我们的资产是行业指数，通过行业指数的权重能够进行命名吗。"
   ]
  },
  {
   "cell_type": "code",
   "execution_count": 51,
   "metadata": {},
   "outputs": [],
   "source": [
    "def cal_implicit_factors(asset_name, n=4, method=None):\n",
    "    \"\"\"\n",
    "    Parameters\n",
    "    -----------\n",
    "    asset_name: str\n",
    "        EPS_TTM, PE_TTM\n",
    "    n: int\n",
    "    \"\"\"\n",
    "    X = get_fundamental_data(f'{asset_name}')\n",
    "    rowindex = X.index\n",
    "    colindex = X.columns\n",
    "    X.dropna(axis=0,inplace=True)\n",
    "    eigen_vals, eigen_vectors = np.linalg.eig(np.cov(X,rowvar=False))\n",
    "    Variance_interpretation_ratio = eigen_vals.cumsum() / eigen_vals.sum()\n",
    "    Factors = X @ eigen_vectors\n",
    "    Factors.columns = [f\"pca{i+1}\" for i in range(len(X.columns))]\n",
    "    return Factors.iloc[:,:n], Variance_interpretation_ratio"
   ]
  },
  {
   "cell_type": "code",
   "execution_count": 52,
   "metadata": {},
   "outputs": [],
   "source": [
    "factors, _ = cal_implicit_factors('EPS_TTM')"
   ]
  },
  {
   "cell_type": "code",
   "execution_count": 53,
   "metadata": {},
   "outputs": [
    {
     "data": {
      "text/html": [
       "<div>\n",
       "<style scoped>\n",
       "    .dataframe tbody tr th:only-of-type {\n",
       "        vertical-align: middle;\n",
       "    }\n",
       "\n",
       "    .dataframe tbody tr th {\n",
       "        vertical-align: top;\n",
       "    }\n",
       "\n",
       "    .dataframe thead th {\n",
       "        text-align: right;\n",
       "    }\n",
       "</style>\n",
       "<table border=\"1\" class=\"dataframe\">\n",
       "  <thead>\n",
       "    <tr style=\"text-align: right;\">\n",
       "      <th></th>\n",
       "      <th>pca1</th>\n",
       "      <th>pca2</th>\n",
       "      <th>pca3</th>\n",
       "      <th>pca4</th>\n",
       "    </tr>\n",
       "  </thead>\n",
       "  <tbody>\n",
       "    <tr>\n",
       "      <th>2015-03-31</th>\n",
       "      <td>-0.088453</td>\n",
       "      <td>-0.137454</td>\n",
       "      <td>-0.087782</td>\n",
       "      <td>-0.174349</td>\n",
       "    </tr>\n",
       "    <tr>\n",
       "      <th>2015-04-30</th>\n",
       "      <td>-0.079116</td>\n",
       "      <td>-0.121234</td>\n",
       "      <td>-0.083903</td>\n",
       "      <td>-0.186819</td>\n",
       "    </tr>\n",
       "    <tr>\n",
       "      <th>2015-05-29</th>\n",
       "      <td>-0.082552</td>\n",
       "      <td>-0.250133</td>\n",
       "      <td>-0.117578</td>\n",
       "      <td>-0.200076</td>\n",
       "    </tr>\n",
       "    <tr>\n",
       "      <th>2015-06-30</th>\n",
       "      <td>-0.122651</td>\n",
       "      <td>-0.850750</td>\n",
       "      <td>-0.097451</td>\n",
       "      <td>0.269398</td>\n",
       "    </tr>\n",
       "    <tr>\n",
       "      <th>2015-07-31</th>\n",
       "      <td>-0.113598</td>\n",
       "      <td>-0.842315</td>\n",
       "      <td>-0.092122</td>\n",
       "      <td>0.298394</td>\n",
       "    </tr>\n",
       "    <tr>\n",
       "      <th>...</th>\n",
       "      <td>...</td>\n",
       "      <td>...</td>\n",
       "      <td>...</td>\n",
       "      <td>...</td>\n",
       "    </tr>\n",
       "    <tr>\n",
       "      <th>2022-09-30</th>\n",
       "      <td>-4.537572</td>\n",
       "      <td>1.330841</td>\n",
       "      <td>-1.102571</td>\n",
       "      <td>3.396449</td>\n",
       "    </tr>\n",
       "    <tr>\n",
       "      <th>2022-10-31</th>\n",
       "      <td>-4.538129</td>\n",
       "      <td>1.330714</td>\n",
       "      <td>-1.095954</td>\n",
       "      <td>3.394226</td>\n",
       "    </tr>\n",
       "    <tr>\n",
       "      <th>2022-11-30</th>\n",
       "      <td>-4.521406</td>\n",
       "      <td>1.332091</td>\n",
       "      <td>-1.092563</td>\n",
       "      <td>3.393975</td>\n",
       "    </tr>\n",
       "    <tr>\n",
       "      <th>2022-12-30</th>\n",
       "      <td>-3.596759</td>\n",
       "      <td>-0.365759</td>\n",
       "      <td>-0.313048</td>\n",
       "      <td>0.071834</td>\n",
       "    </tr>\n",
       "    <tr>\n",
       "      <th>2023-01-04</th>\n",
       "      <td>-4.109384</td>\n",
       "      <td>-0.378131</td>\n",
       "      <td>-0.305695</td>\n",
       "      <td>-0.024622</td>\n",
       "    </tr>\n",
       "  </tbody>\n",
       "</table>\n",
       "<p>95 rows × 4 columns</p>\n",
       "</div>"
      ],
      "text/plain": [
       "                pca1      pca2      pca3      pca4\n",
       "2015-03-31 -0.088453 -0.137454 -0.087782 -0.174349\n",
       "2015-04-30 -0.079116 -0.121234 -0.083903 -0.186819\n",
       "2015-05-29 -0.082552 -0.250133 -0.117578 -0.200076\n",
       "2015-06-30 -0.122651 -0.850750 -0.097451  0.269398\n",
       "2015-07-31 -0.113598 -0.842315 -0.092122  0.298394\n",
       "...              ...       ...       ...       ...\n",
       "2022-09-30 -4.537572  1.330841 -1.102571  3.396449\n",
       "2022-10-31 -4.538129  1.330714 -1.095954  3.394226\n",
       "2022-11-30 -4.521406  1.332091 -1.092563  3.393975\n",
       "2022-12-30 -3.596759 -0.365759 -0.313048  0.071834\n",
       "2023-01-04 -4.109384 -0.378131 -0.305695 -0.024622\n",
       "\n",
       "[95 rows x 4 columns]"
      ]
     },
     "execution_count": 53,
     "metadata": {},
     "output_type": "execute_result"
    }
   ],
   "source": [
    "factors"
   ]
  },
  {
   "attachments": {},
   "cell_type": "markdown",
   "metadata": {},
   "source": [
    "## 法二"
   ]
  },
  {
   "cell_type": "code",
   "execution_count": null,
   "metadata": {},
   "outputs": [],
   "source": []
  },
  {
   "cell_type": "code",
   "execution_count": null,
   "metadata": {},
   "outputs": [],
   "source": []
  },
  {
   "cell_type": "code",
   "execution_count": null,
   "metadata": {},
   "outputs": [],
   "source": []
  },
  {
   "cell_type": "code",
   "execution_count": null,
   "metadata": {},
   "outputs": [],
   "source": []
  }
 ],
 "metadata": {
  "kernelspec": {
   "display_name": "base",
   "language": "python",
   "name": "python3"
  },
  "language_info": {
   "codemirror_mode": {
    "name": "ipython",
    "version": 3
   },
   "file_extension": ".py",
   "mimetype": "text/x-python",
   "name": "python",
   "nbconvert_exporter": "python",
   "pygments_lexer": "ipython3",
   "version": "3.9.13 (main, Aug 25 2022, 18:29:29) \n[Clang 12.0.0 ]"
  },
  "orig_nbformat": 4,
  "vscode": {
   "interpreter": {
    "hash": "079e87f824df5e6b38a7b88e40dc2ff705d3b55588765c4fa4284c46fb940b2a"
   }
  }
 },
 "nbformat": 4,
 "nbformat_minor": 2
}
