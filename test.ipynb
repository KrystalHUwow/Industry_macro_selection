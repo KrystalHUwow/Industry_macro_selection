{
 "cells": [
  {
   "cell_type": "code",
   "execution_count": 29,
   "metadata": {},
   "outputs": [],
   "source": [
    "import pandas as pd\n",
    "import numpy as np\n",
    "import matplotlib.pyplot as plt\n",
    "import os\n",
    "import sys\n",
    "import tqdm\n",
    "from scipy.stats import pearsonr, spearmanr, rankdata\n",
    "from statsmodels.api import OLS\n",
    "from statsmodels.tsa.stattools import grangercausalitytests, adfuller\n",
    "from statsmodels.tsa.api import VAR\n",
    "from olsjan10 import *"
   ]
  },
  {
   "cell_type": "code",
   "execution_count": 17,
   "metadata": {},
   "outputs": [],
   "source": [
    "with pd.ExcelFile('./data/宏观数据.xlsx') as p:\n",
    "    sheet_names = p.sheet_names"
   ]
  },
  {
   "cell_type": "code",
   "execution_count": null,
   "metadata": {},
   "outputs": [],
   "source": [
    "# 平稳化时间序列\n",
    "def cal_DiffOrder(series: pd.Series):\n",
    "    # 进行单位根检验 adfuller检验\n",
    "    p_value = adfuller(series)[1]\n",
    "    d = 0\n",
    "    while p_value > 0.05:\n",
    "        d += 1\n",
    "        series = series.diff().iloc[1:]\n",
    "        p_value = adfuller(series)[1]\n",
    "    return d"
   ]
  },
  {
   "cell_type": "code",
   "execution_count": null,
   "metadata": {},
   "outputs": [],
   "source": [
    "# 函数输入宏观数据和行业数据，得到的表格行为行业，列为宏观变量，值为0,1,2,3，分别代表双向不通过检验，宏观变量存在领先关系，宏观变量存在滞后关系，宏观变量存在领先滞后关系\n",
    "def granger_test_for_factor_selection(macro, price, lag=3, test='ssr_chi2test'):\n",
    "    test_value_list = [[0, 2], [1, 3]]\n",
    "    test_matrix = np.zeros((price.shape[1], macro.shape[1]))\n",
    "    # 对于宏观数据进行遍历\n",
    "    for col in range(macro.shape[1]):\n",
    "        macro_column = macro.iloc[:, col].dropna()\n",
    "        stationary_dict = stationaize_series(macro_column)\n",
    "        if not stationary_dict:\n",
    "            continue\n",
    "        else:\n",
    "            macro_column = stationary_dict['Series']\n",
    "\n",
    "        # 对所有的行业loop\n",
    "        for i in range(price.shape[1]):\n",
    "            price_column = price.iloc[:, i].dropna()\n",
    "            stationary_dict = stationaize_series(price_column)\n",
    "            if not stationary_dict:\n",
    "                test_matrix[i][col] = None\n",
    "                continue\n",
    "            price_column = stationary_dict['Series']\n",
    "            price_column = pd.merge(price_column, macro_column, left_index=True, right_index=True)\n",
    "\n",
    "            price_column = price_column.dropna()\n",
    "            # 进行格兰杰因果检验，检验宏观变量的领先关系\n",
    "            granger_test = grangercausalitytests(price_column, maxlag=lag, verbose=False)\n",
    "            min_p_value_lead = np.min([round(granger_test[j + 1][0][test][1], 4) for j in range(lag)])\n",
    "            # 进行格兰杰因果检验，检验宏观变量的滞后关系\n",
    "            granger_test = grangercausalitytests(price_column.iloc[:, [1, 0]], maxlag=lag, verbose=False)\n",
    "            min_p_value_lag = np.min([round(granger_test[j + 1][0][test][1], 4) for j in range(lag)])\n",
    "            # 把0.05当成是否显著的threshold\n",
    "            test_matrix[i][col] = test_value_list[min_p_value_lead <= 0.05][min_p_value_lag <= 0.05]\n",
    "    test_matrix = pd.DataFrame(test_matrix, index=price.columns, columns=macro.columns)\n",
    "    return test_matrix"
   ]
  },
  {
   "cell_type": "code",
   "execution_count": null,
   "metadata": {},
   "outputs": [],
   "source": [
    "# 进行格兰杰因果检验\n",
    "max_lag = 3\n",
    "\n",
    "# 获取表格的表名\n",
    "financial_names = ['EPS TTM', 'EPS BASIC', 'PE TTM']\n",
    "sheet_names = pd.ExcelFile(r'data/宏观数据.xlsx').sheet_names\n",
    "for i in range(1, 2):\n",
    "    writer = pd.ExcelWriter('result/grangertest_{}.xlsx'.format(financial_names[i - 1]))\n",
    "    price = get_financial_data(i)\n",
    "    for j in tqdm(range(20)):\n",
    "        macro = macro_data(j)\n",
    "        table = granger_test_for_factor_selection(macro, price, lag=max_lag)\n",
    "        table.to_excel(writer, encoding='utf_8_sig', sheet_name='{}'.format(sheet_names[j]))\n",
    "    writer.save()\n",
    "    writer.close()"
   ]
  },
  {
   "cell_type": "code",
   "execution_count": null,
   "metadata": {},
   "outputs": [],
   "source": []
  },
  {
   "cell_type": "code",
   "execution_count": null,
   "metadata": {},
   "outputs": [],
   "source": [
    "# VAR测定领先滞后关系\n",
    "def VAR_lead_lag_relationship(macro, price, granger, lag=3):\n",
    "    result = pd.DataFrame(index=price.columns, columns=macro.columns, dtype='object')\n",
    "    # 对于宏观数据进行遍历\n",
    "    for col in range(macro.shape[1]):\n",
    "        # 宏观经济数据\n",
    "        macro_column = macro.iloc[:, col].dropna()\n",
    "        # 把序列差分直至平稳\n",
    "        stationary_dict = stationaize_series(macro_column)\n",
    "        if not stationary_dict:\n",
    "            continue\n",
    "        else:\n",
    "            macro_column = stationary_dict['Series']\n",
    "\n",
    "        # 对所有的行业进行遍历\n",
    "        for i in range(price.shape[1]):\n",
    "            # 判断是否通过granger检验\n",
    "            if granger is None or granger.iloc[i, col] == 0:\n",
    "                continue\n",
    "            price_column = price.iloc[:, i].dropna()\n",
    "            # 把序列差分直至平稳\n",
    "            stationary_dict = stationaize_series(price_column)\n",
    "            price_column = stationary_dict['Series']\n",
    "            var_data = pd.merge(price_column, macro_column, left_index=True, right_index=True)\n",
    "            var_data.dropna(inplace=True)\n",
    "            model = VAR(var_data)\n",
    "            model_fitted = model.fit(lag)\n",
    "            lead_lag = {}\n",
    "            # print(model_fitted.pvalues)\n",
    "            for index in range(3):\n",
    "                if model_fitted.pvalues.iloc[2 * index + 2, 0] <= 0.05:\n",
    "                    lead_lag[str(index+1)] = model_fitted.pvalues.iloc[2 * index + 2, 0]\n",
    "                if model_fitted.pvalues.iloc[2 * index + 1, 1] <= 0.05:\n",
    "                    lead_lag[str(-(index+1))] = model_fitted.pvalues.iloc[2 * index + 2, 0]\n",
    "            lead_lag = sorted(lead_lag.items(), key=lambda x:x[1])\n",
    "            lead_lag = [key for key, value in lead_lag]\n",
    "            # print(lead_lag_li)\n",
    "            if lead_lag:\n",
    "                result.iloc[i, col] = ','.join(lead_lag)\n",
    "    return result"
   ]
  },
  {
   "cell_type": "code",
   "execution_count": null,
   "metadata": {},
   "outputs": [],
   "source": [
    "max_lag = 3\n",
    "\n",
    "# 获取表格的表名\n",
    "financial_names = ['EPS TTM', 'EPS BASIC', 'PE TTM']\n",
    "sheet_names = pd.ExcelFile(r'data/宏观数据.xlsx').sheet_names\n",
    "for i in range(1, 2):\n",
    "    writer = pd.ExcelWriter('result/lead_lag_{}.xlsx'.format(financial_names[i - 1]))\n",
    "    price = get_financial_data(i)\n",
    "    for j in tqdm(range(20)):\n",
    "        macro = macro_data(j)\n",
    "        granger_table = pd.read_excel(r'result/grangertest_EPS TTM.xlsx', index_col=0, sheet_name=j)\n",
    "        table = VAR_lead_lag_relationship(macro, price, granger_table, lag=max_lag)\n",
    "        table.to_excel(writer, encoding='utf_8_sig', sheet_name='{}'.format(sheet_names[j]))\n",
    "    writer.save()\n",
    "    writer.close()"
   ]
  },
  {
   "cell_type": "code",
   "execution_count": 30,
   "metadata": {},
   "outputs": [],
   "source": [
    "import pandas as pd"
   ]
  },
  {
   "cell_type": "code",
   "execution_count": 31,
   "metadata": {},
   "outputs": [],
   "source": [
    "xxx = [1,2,3,4,5,6,7]\n",
    "yyy = np.random.rand(7)"
   ]
  },
  {
   "cell_type": "code",
   "execution_count": 42,
   "metadata": {},
   "outputs": [
    {
     "data": {
      "text/plain": [
       "0    0.159645\n",
       "1    0.230574\n",
       "2    0.000097\n",
       "3    0.006970\n",
       "4    0.131135\n",
       "5    0.259686\n",
       "6    0.091046\n",
       "dtype: float64"
      ]
     },
     "execution_count": 42,
     "metadata": {},
     "output_type": "execute_result"
    }
   ],
   "source": [
    "xc = xxx.copy() \n",
    "xc = pd.DataFrame(xc)\n",
    "xc.insert(loc=0,column='intercept', value=np.ones(len(xxx))) # 用insert之前先拷贝一份\n",
    "alldata = pd.concat([pd.DataFrame(yyy),xc],axis=1)\n",
    "alldata.dropna(inplace=True,axis=0)\n",
    "model = sm.OLS(alldata.iloc[:,0],alldata.iloc[:,1:])\n",
    "result.resid **2"
   ]
  },
  {
   "cell_type": "code",
   "execution_count": null,
   "metadata": {},
   "outputs": [],
   "source": []
  },
  {
   "cell_type": "code",
   "execution_count": 62,
   "metadata": {},
   "outputs": [],
   "source": [
    "x = 2"
   ]
  },
  {
   "cell_type": "code",
   "execution_count": 64,
   "metadata": {},
   "outputs": [
    {
     "name": "stdout",
     "output_type": "stream",
     "text": [
      "2\n"
     ]
    }
   ],
   "source": [
    "if x < 3: print(x)"
   ]
  },
  {
   "cell_type": "code",
   "execution_count": null,
   "metadata": {},
   "outputs": [],
   "source": []
  },
  {
   "cell_type": "code",
   "execution_count": null,
   "metadata": {},
   "outputs": [],
   "source": []
  }
 ],
 "metadata": {
  "kernelspec": {
   "display_name": "base",
   "language": "python",
   "name": "python3"
  },
  "language_info": {
   "codemirror_mode": {
    "name": "ipython",
    "version": 3
   },
   "file_extension": ".py",
   "mimetype": "text/x-python",
   "name": "python",
   "nbconvert_exporter": "python",
   "pygments_lexer": "ipython3",
   "version": "3.9.13"
  },
  "orig_nbformat": 4,
  "vscode": {
   "interpreter": {
    "hash": "079e87f824df5e6b38a7b88e40dc2ff705d3b55588765c4fa4284c46fb940b2a"
   }
  }
 },
 "nbformat": 4,
 "nbformat_minor": 2
}
